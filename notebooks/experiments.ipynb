{
 "cells": [
  {
   "cell_type": "code",
   "execution_count": 252,
   "metadata": {
    "collapsed": true,
    "deletable": true,
    "editable": true
   },
   "outputs": [],
   "source": [
    "%matplotlib inline\n",
    "\n",
    "import json\n",
    "import math\n",
    "\n",
    "import numpy as np\n",
    "import matplotlib.pyplot as plt\n",
    "\n",
    "from abc import ABC, abstractmethod"
   ]
  },
  {
   "cell_type": "code",
   "execution_count": 3,
   "metadata": {
    "collapsed": true,
    "deletable": true,
    "editable": true
   },
   "outputs": [],
   "source": [
    "class Experiment:\n",
    "    def __init__(self, name, input_file, parameters, rounds):\n",
    "        self.__name = name\n",
    "        self.__input_file = input_file\n",
    "        self.__parameters = parameters\n",
    "        self.__rounds = rounds\n",
    "        \n",
    "    @property\n",
    "    def name(self):\n",
    "        return self.__name\n",
    "    \n",
    "    @property\n",
    "    def input_file(self):\n",
    "        return self.__input_file\n",
    "    \n",
    "    @property\n",
    "    def parameters(self):\n",
    "        return self.__parameters\n",
    "    \n",
    "    @property\n",
    "    def rounds(self):\n",
    "        return self.__rounds\n",
    "    \n",
    "    def __repr__(self):\n",
    "        return 'Experiment(name={0}, input_file={1}, parameters={2})'.format(\n",
    "            self.__name, self.__input_file, self.__parameters)\n",
    "    \n",
    "class Round:\n",
    "    def __init__(self, duration, objective, n):\n",
    "        self.__duration = duration\n",
    "        self.__objective = objective\n",
    "        self.__n = n\n",
    "        \n",
    "    @property\n",
    "    def duration(self):\n",
    "        return self.__duration\n",
    "    \n",
    "    @property\n",
    "    def objective(self):\n",
    "        return self.__objective\n",
    "    \n",
    "    @property\n",
    "    def n(self):\n",
    "        return self.__n\n",
    "    \n",
    "    def __repr__(self):\n",
    "        return 'Round(duration={0}, objective={1}, n={2})'.format(\n",
    "            self.__duration, self.__objective, self.__n)"
   ]
  },
  {
   "cell_type": "code",
   "execution_count": 4,
   "metadata": {
    "collapsed": false,
    "deletable": true,
    "editable": true
   },
   "outputs": [],
   "source": [
    "class ExperimentLogParser:\n",
    "    @abstractmethod\n",
    "    def parse(self, file_path):\n",
    "        pass\n",
    "\n",
    "class PrefixExperimentLogParser(ExperimentLogParser):\n",
    "    def __init__(self, prefix, parameters):\n",
    "        self.__prefix = prefix\n",
    "        self.__parameters = parameters\n",
    "    \n",
    "    def parse(self, file_path):\n",
    "        with open(file_path, 'r') as f:\n",
    "            lines = PrefixExperimentLogParser.filter_lines(f.readlines(), self.__prefix)\n",
    "            \n",
    "            rounds = []\n",
    "            for line in lines[1:]:\n",
    "                round_prop = json.loads(line)\n",
    "                rounds.append(Round(round_prop['duration'], round_prop['objective'], round_prop['round']))\n",
    "                \n",
    "            experiment_prop = json.loads(lines[0])\n",
    "            \n",
    "            name = experiment_prop['name']\n",
    "            input_file = experiment_prop['inputFile']\n",
    "            parameters = {\n",
    "                'eta': experiment_prop['eta'],\n",
    "                'lambda': experiment_prop['lambda'],\n",
    "                'H': experiment_prop['localIterFrac'],\n",
    "                'K': experiment_prop['numSplits']\n",
    "            }\n",
    "            \n",
    "            return Experiment(name, input_file, parameters, rounds)\n",
    "        \n",
    "    @staticmethod\n",
    "    def filter_lines(lines, prefix):\n",
    "        return [line[line.find(prefix) + len(prefix):] for line in lines if prefix in line]"
   ]
  },
  {
   "cell_type": "code",
   "execution_count": 888,
   "metadata": {
    "collapsed": true,
    "deletable": true,
    "editable": true
   },
   "outputs": [],
   "source": [
    "#input_path_local = '/Users/Chris/Downloads/exp_result.txt'\n",
    "input_path_local = '/Users/Chris/Downloads/thesis/experiments_local_6.txt'\n",
    "input_path_spark = '/Users/Chris/Downloads/thesis/experiments_spark_3.txt'"
   ]
  },
  {
   "cell_type": "code",
   "execution_count": 889,
   "metadata": {
    "collapsed": true,
    "deletable": true,
    "editable": true
   },
   "outputs": [],
   "source": [
    "parser = PrefixExperimentLogParser(prefix='EXPERIMENT|', parameters=['eta', 'lambda', 'localIterFrac', 'numSplits'])"
   ]
  },
  {
   "cell_type": "code",
   "execution_count": 890,
   "metadata": {
    "collapsed": false,
    "deletable": true,
    "editable": true
   },
   "outputs": [
    {
     "ename": "IndexError",
     "evalue": "list index out of range",
     "output_type": "error",
     "traceback": [
      "\u001b[0;31m---------------------------------------------------------------------------\u001b[0m",
      "\u001b[0;31mIndexError\u001b[0m                                Traceback (most recent call last)",
      "\u001b[0;32m<ipython-input-890-a4e43c3fd8e2>\u001b[0m in \u001b[0;36m<module>\u001b[0;34m()\u001b[0m\n\u001b[0;32m----> 1\u001b[0;31m \u001b[0mparser\u001b[0m\u001b[0;34m.\u001b[0m\u001b[0mparse\u001b[0m\u001b[0;34m(\u001b[0m\u001b[0minput_path_local\u001b[0m\u001b[0;34m)\u001b[0m\u001b[0;34m\u001b[0m\u001b[0m\n\u001b[0m",
      "\u001b[0;32m<ipython-input-4-665d3df3c3c8>\u001b[0m in \u001b[0;36mparse\u001b[0;34m(self, file_path)\u001b[0m\n\u001b[1;32m     18\u001b[0m                 \u001b[0mrounds\u001b[0m\u001b[0;34m.\u001b[0m\u001b[0mappend\u001b[0m\u001b[0;34m(\u001b[0m\u001b[0mRound\u001b[0m\u001b[0;34m(\u001b[0m\u001b[0mround_prop\u001b[0m\u001b[0;34m[\u001b[0m\u001b[0;34m'duration'\u001b[0m\u001b[0;34m]\u001b[0m\u001b[0;34m,\u001b[0m \u001b[0mround_prop\u001b[0m\u001b[0;34m[\u001b[0m\u001b[0;34m'objective'\u001b[0m\u001b[0;34m]\u001b[0m\u001b[0;34m,\u001b[0m \u001b[0mround_prop\u001b[0m\u001b[0;34m[\u001b[0m\u001b[0;34m'round'\u001b[0m\u001b[0;34m]\u001b[0m\u001b[0;34m)\u001b[0m\u001b[0;34m)\u001b[0m\u001b[0;34m\u001b[0m\u001b[0m\n\u001b[1;32m     19\u001b[0m \u001b[0;34m\u001b[0m\u001b[0m\n\u001b[0;32m---> 20\u001b[0;31m             \u001b[0mexperiment_prop\u001b[0m \u001b[0;34m=\u001b[0m \u001b[0mjson\u001b[0m\u001b[0;34m.\u001b[0m\u001b[0mloads\u001b[0m\u001b[0;34m(\u001b[0m\u001b[0mlines\u001b[0m\u001b[0;34m[\u001b[0m\u001b[0;36m0\u001b[0m\u001b[0;34m]\u001b[0m\u001b[0;34m)\u001b[0m\u001b[0;34m\u001b[0m\u001b[0m\n\u001b[0m\u001b[1;32m     21\u001b[0m \u001b[0;34m\u001b[0m\u001b[0m\n\u001b[1;32m     22\u001b[0m             \u001b[0mname\u001b[0m \u001b[0;34m=\u001b[0m \u001b[0mexperiment_prop\u001b[0m\u001b[0;34m[\u001b[0m\u001b[0;34m'name'\u001b[0m\u001b[0;34m]\u001b[0m\u001b[0;34m\u001b[0m\u001b[0m\n",
      "\u001b[0;31mIndexError\u001b[0m: list index out of range"
     ]
    }
   ],
   "source": [
    "parser.parse(input_path_local)"
   ]
  },
  {
   "cell_type": "code",
   "execution_count": null,
   "metadata": {
    "collapsed": true,
    "deletable": true,
    "editable": true
   },
   "outputs": [],
   "source": []
  },
  {
   "cell_type": "code",
   "execution_count": 891,
   "metadata": {
    "collapsed": false,
    "deletable": true,
    "editable": true
   },
   "outputs": [],
   "source": [
    "def plot_results(experiment):\n",
    "    timestamps = [rnd.duration / 1000 for rnd in experiment.rounds]\n",
    "    objectives = [rnd.objective for rnd in experiment.rounds]\n",
    "    \n",
    "    cum_time = np.cumsum(timestamps)\n",
    "    objectives_arr = (np.array(objectives) - np.array(objectives).min())\n",
    "    \n",
    "    print(np.array(objectives).min())\n",
    "    \n",
    "    max_idx = -1\n",
    "    for i, objective in enumerate(objectives_arr):\n",
    "        if objective < 1e-4:\n",
    "            max_idx = i\n",
    "            break\n",
    "    \n",
    "    cum_time = cum_time[:max_idx]\n",
    "    objectives_arr = objectives_arr[:max_idx]\n",
    "    timestamps = timestamps[:max_idx]\n",
    "    \n",
    "    plt.figure(figsize=(8, 6))\n",
    "    plt.xlim((0, cum_time[-1]))\n",
    "    plt.ylim(1e-4)\n",
    "    plt.yticks([10e-1, 10e-2, 10e-3, 10e-4])\n",
    "    plt.semilogy(cum_time, objectives_arr, marker='o')\n",
    "    plt.xlabel(r'Seconds')\n",
    "    plt.ylabel(r'Suboptimality: $O_B(w) - O_B(w^*)$')\n",
    "    plt.grid(True, which=\"both\")"
   ]
  },
  {
   "cell_type": "code",
   "execution_count": 905,
   "metadata": {
    "collapsed": false,
    "deletable": true,
    "editable": true
   },
   "outputs": [],
   "source": [
    "def plot_results_2(experiment1, experiment2):\n",
    "    timestamps1 = [rnd.duration / 1000 for rnd in experiment1.rounds]\n",
    "    objectives1 = [rnd.objective for rnd in experiment1.rounds]\n",
    "    cum_time1 = np.cumsum(timestamps1)\n",
    "    objectives_arr1 = (np.array(objectives1) - np.array(objectives1).min())\n",
    "    \n",
    "    max_idx = -1\n",
    "    for i, objective in enumerate(objectives_arr1):\n",
    "        if objective < 1e-4:\n",
    "            max_idx = i\n",
    "            break\n",
    "    \n",
    "    cum_time1 = cum_time1[:max_idx]\n",
    "    objectives_arr1 = objectives_arr1[:max_idx]\n",
    "    timestamps1 = timestamps1[:max_idx]\n",
    "    \n",
    "    timestamps2 = [rnd.duration / 1000 for rnd in experiment2.rounds]\n",
    "    objectives2 = [rnd.objective for rnd in experiment2.rounds]\n",
    "    cum_time2 = np.cumsum(timestamps2)\n",
    "    objectives_arr2 = (np.array(objectives2) - np.array(objectives2).min())\n",
    "    \n",
    "    max_idx = -1\n",
    "    for i, objective in enumerate(objectives_arr2):\n",
    "        if objective < 1e-4:\n",
    "            max_idx = i\n",
    "            break\n",
    "    \n",
    "    cum_time2 = cum_time2[:max_idx]\n",
    "    objectives_arr2 = objectives_arr2[:max_idx]\n",
    "    timestamps2 = timestamps2[:max_idx]\n",
    "    \n",
    "    plt.figure(figsize=(8, 6))\n",
    "    plt.xlim((0, max(cum_time1[-1], cum_time2[-1])))\n",
    "    plt.ylim(1e-6)\n",
    "    plt.yticks([10e-1, 10e-2, 10e-3, 10e-4, 10e-5, 10e-6])\n",
    "    plt.semilogy(cum_time1, objectives_arr1, marker='x')\n",
    "    plt.semilogy(cum_time2, objectives_arr2, marker='o')\n",
    "    plt.xlabel(r'Seconds')\n",
    "    plt.ylabel(r'Suboptimality: $O_B(w) - O_B(w^*)$')\n",
    "    plt.legend(['Local', 'Spark'], loc='lower left')"
   ]
  },
  {
   "cell_type": "code",
   "execution_count": 906,
   "metadata": {
    "collapsed": false,
    "deletable": true,
    "editable": true
   },
   "outputs": [
    {
     "ename": "IndexError",
     "evalue": "list index out of range",
     "output_type": "error",
     "traceback": [
      "\u001b[0;31m---------------------------------------------------------------------------\u001b[0m",
      "\u001b[0;31mIndexError\u001b[0m                                Traceback (most recent call last)",
      "\u001b[0;32m<ipython-input-906-57e1c26c75c8>\u001b[0m in \u001b[0;36m<module>\u001b[0;34m()\u001b[0m\n\u001b[0;32m----> 1\u001b[0;31m \u001b[0mexperiment\u001b[0m \u001b[0;34m=\u001b[0m \u001b[0mparser\u001b[0m\u001b[0;34m.\u001b[0m\u001b[0mparse\u001b[0m\u001b[0;34m(\u001b[0m\u001b[0minput_path_local\u001b[0m\u001b[0;34m)\u001b[0m\u001b[0;34m\u001b[0m\u001b[0m\n\u001b[0m",
      "\u001b[0;32m<ipython-input-4-665d3df3c3c8>\u001b[0m in \u001b[0;36mparse\u001b[0;34m(self, file_path)\u001b[0m\n\u001b[1;32m     18\u001b[0m                 \u001b[0mrounds\u001b[0m\u001b[0;34m.\u001b[0m\u001b[0mappend\u001b[0m\u001b[0;34m(\u001b[0m\u001b[0mRound\u001b[0m\u001b[0;34m(\u001b[0m\u001b[0mround_prop\u001b[0m\u001b[0;34m[\u001b[0m\u001b[0;34m'duration'\u001b[0m\u001b[0;34m]\u001b[0m\u001b[0;34m,\u001b[0m \u001b[0mround_prop\u001b[0m\u001b[0;34m[\u001b[0m\u001b[0;34m'objective'\u001b[0m\u001b[0;34m]\u001b[0m\u001b[0;34m,\u001b[0m \u001b[0mround_prop\u001b[0m\u001b[0;34m[\u001b[0m\u001b[0;34m'round'\u001b[0m\u001b[0;34m]\u001b[0m\u001b[0;34m)\u001b[0m\u001b[0;34m)\u001b[0m\u001b[0;34m\u001b[0m\u001b[0m\n\u001b[1;32m     19\u001b[0m \u001b[0;34m\u001b[0m\u001b[0m\n\u001b[0;32m---> 20\u001b[0;31m             \u001b[0mexperiment_prop\u001b[0m \u001b[0;34m=\u001b[0m \u001b[0mjson\u001b[0m\u001b[0;34m.\u001b[0m\u001b[0mloads\u001b[0m\u001b[0;34m(\u001b[0m\u001b[0mlines\u001b[0m\u001b[0;34m[\u001b[0m\u001b[0;36m0\u001b[0m\u001b[0;34m]\u001b[0m\u001b[0;34m)\u001b[0m\u001b[0;34m\u001b[0m\u001b[0m\n\u001b[0m\u001b[1;32m     21\u001b[0m \u001b[0;34m\u001b[0m\u001b[0m\n\u001b[1;32m     22\u001b[0m             \u001b[0mname\u001b[0m \u001b[0;34m=\u001b[0m \u001b[0mexperiment_prop\u001b[0m\u001b[0;34m[\u001b[0m\u001b[0;34m'name'\u001b[0m\u001b[0;34m]\u001b[0m\u001b[0;34m\u001b[0m\u001b[0m\n",
      "\u001b[0;31mIndexError\u001b[0m: list index out of range"
     ]
    }
   ],
   "source": [
    "experiment = parser.parse(input_path_local)"
   ]
  },
  {
   "cell_type": "code",
   "execution_count": 907,
   "metadata": {
    "collapsed": false,
    "deletable": true,
    "editable": true,
    "scrolled": false
   },
   "outputs": [
    {
     "name": "stdout",
     "output_type": "stream",
     "text": [
      "0.2171884\n"
     ]
    },
    {
     "data": {
      "image/png": "[encoded data removed]",
      "text/plain": [
       "<matplotlib.figure.Figure at 0x10b9bdbe0>"
      ]
     },
     "metadata": {},
     "output_type": "display_data"
    }
   ],
   "source": [
    "plot_results(experiment)"
   ]
  },
  {
   "cell_type": "code",
   "execution_count": 908,
   "metadata": {
    "collapsed": false,
    "deletable": true,
    "editable": true
   },
   "outputs": [
    {
     "data": {
      "image/png": "[encoded data removed]",
      "text/plain": [
       "<matplotlib.figure.Figure at 0x10bc9bb00>"
      ]
     },
     "metadata": {},
     "output_type": "display_data"
    }
   ],
   "source": [
    "parser_spark = PrefixExperimentLogParser(prefix='EXPERIMENT|', parameters=['eta', 'lambda', 'localIterFrac', 'numSplits'])\n",
    "parser_local = PrefixExperimentLogParser(prefix='', parameters=['eta', 'lambda', 'localIterFrac', 'numSplits'])\n",
    "plot_results_2(parser_local.parse(input_path_local), parser_spark.parse(input_path_spark))"
   ]
  },
  {
   "cell_type": "code",
   "execution_count": null,
   "metadata": {
    "collapsed": true,
    "deletable": true,
    "editable": true
   },
   "outputs": [],
   "source": []
  },
  {
   "cell_type": "code",
   "execution_count": null,
   "metadata": {
    "collapsed": true
   },
   "outputs": [],
   "source": []
  }
 ],
 "metadata": {
  "kernelspec": {
   "display_name": "Python 3",
   "language": "python",
   "name": "python3"
  },
  "language_info": {
   "codemirror_mode": {
    "name": "ipython",
    "version": 3
   },
   "file_extension": ".py",
   "mimetype": "text/x-python",
   "name": "python",
   "nbconvert_exporter": "python",
   "pygments_lexer": "ipython3",
   "version": "3.5.1"
  }
 },
 "nbformat": 4,
 "nbformat_minor": 2
}
